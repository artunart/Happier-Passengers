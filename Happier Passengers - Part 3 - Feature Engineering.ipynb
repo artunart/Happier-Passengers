{
 "cells": [
  {
   "cell_type": "markdown",
   "id": "5d5cfe88",
   "metadata": {},
   "source": [
    "<h1>Part 3 - Feature Engineering</h1>"
   ]
  },
  {
   "cell_type": "code",
   "execution_count": 1,
   "id": "bead8b8f",
   "metadata": {},
   "outputs": [],
   "source": [
    "#import packages\n",
    "import numpy as np\n",
    "import pandas as pd\n",
    "import matplotlib.pyplot as plt\n",
    "import seaborn as sns"
   ]
  },
  {
   "cell_type": "markdown",
   "id": "a99b15e6",
   "metadata": {},
   "source": [
    "**Import Data and Restate Variables**"
   ]
  },
  {
   "cell_type": "code",
   "execution_count": 2,
   "id": "54fb3072",
   "metadata": {},
   "outputs": [],
   "source": [
    "train_data_num = pd.read_pickle('data/model/train_data_num.pkl')\n",
    "test_data_num = pd.read_pickle('data/model/test_data_num.pkl')\n",
    "\n",
    "vars_cont = ['Age', 'Flight Distance', 'Arrival Delay in Minutes', 'Departure Delay in Minutes']\n",
    "\n",
    "vars_cat_num = ['Inflight wifi service', 'Departure/Arrival time convenient', 'Ease of Online booking',\n",
    "       'Gate location', 'Food and drink', 'Online boarding', 'Seat comfort',\n",
    "       'Inflight entertainment', 'On-board service', 'Leg room service',\n",
    "       'Baggage handling', 'Checkin service', 'Inflight service',\n",
    "       'Cleanliness']\n",
    "\n",
    "vars_cat_str = ['Gender', 'Customer Type', 'Type of Travel', 'Class', 'satisfaction']"
   ]
  },
  {
   "cell_type": "markdown",
   "id": "fdc269cd",
   "metadata": {},
   "source": [
    "**Normalizing Arrival Delay via Distance Traveled**\n",
    "\n",
    "Although, delays in Arrival and Departure times could be useful features that impact passenger satisfaction, another idea for feature generation would be to normalize them by the distance traveled. <br/>Assuming, a more or less constant flight velocity, normalizing the delays with distance traveled would let us calculate how long the delay was with respect to the total expected flight time. <br/>\n",
    "This relative delay penalty could be thought to play into the passengers satisfaction response (e.g. same amount of delay could be more tolerable in a long flight than short)\n"
   ]
  },
  {
   "cell_type": "markdown",
   "id": "82783b6b",
   "metadata": {},
   "source": [
    "<h2>Variable Normalizing Delay with Total Flight Time</h2>\n",
    "\n",
    "\n",
    "**Introduce Relative Delays**<br/>"
   ]
  },
  {
   "cell_type": "code",
   "execution_count": 5,
   "id": "8dee1e7d",
   "metadata": {},
   "outputs": [
    {
     "name": "stdout",
     "output_type": "stream",
     "text": [
      "0\n"
     ]
    }
   ],
   "source": [
    "Rel_Arr_Delay_train = train_data_num['Arrival Delay in Minutes']/train_data_num['Flight Distance']\n",
    "Rel_Dep_Delay_train = train_data_num['Departure Delay in Minutes']/train_data_num['Flight Distance']\n",
    "Rel_Arr_Delay_test = test_data_num['Arrival Delay in Minutes']/test_data_num['Flight Distance']\n",
    "Rel_Dep_Delay_test = test_data_num['Departure Delay in Minutes']/test_data_num['Flight Distance']\n",
    "\n",
    "_rel_delay_compare = pd.DataFrame({'Rel_Arr_Delay_train':Rel_Arr_Delay_train, \n",
    "                                 'Rel_Dep_Delay_train':Rel_Dep_Delay_train, \n",
    "                               'Arrival Delay in Minutes':train_data_num['Arrival Delay in Minutes'],\n",
    "                                'Departure Delay in Minutes':train_data_num['Departure Delay in Minutes'],\n",
    "                                'satisfaction':train_data_num['satisfaction']})\n",
    "\n",
    "print(Rel_Arr_Delay_test.isna().sum())"
   ]
  },
  {
   "cell_type": "markdown",
   "id": "4426f71f",
   "metadata": {},
   "source": [
    "**Observe Correlations with 'satisfaction'**<br/>\n",
    "Below we present the correlations of the relative delays and absolute delays with passenger satisfaction.<br/>\n",
    "The relative delays seem to be more hightly correlated than the absolute ones - giving some optimism that feauture could benefit the model."
   ]
  },
  {
   "cell_type": "code",
   "execution_count": 6,
   "id": "914b80de",
   "metadata": {},
   "outputs": [
    {
     "name": "stdout",
     "output_type": "stream",
     "text": [
      "Rel_Arr_Delay_train          -0.088002\n",
      "Rel_Dep_Delay_train          -0.084382\n",
      "Arrival Delay in Minutes     -0.057908\n",
      "Departure Delay in Minutes   -0.051023\n",
      "satisfaction                  1.000000\n",
      "Name: satisfaction, dtype: float64\n"
     ]
    }
   ],
   "source": [
    "print(_rel_delay_compare.corr()['satisfaction'])"
   ]
  },
  {
   "cell_type": "markdown",
   "id": "0f7bc1bc",
   "metadata": {},
   "source": [
    "**Observe Correlations with non-normalized delays**<br/>Also below, we present the correlations of the relative delays with absolute delays and passenger satisfaction.<br/>\n",
    "The relative delay pair seems to be different than the absolute delay pair. This could mean that the normalization we introduced has had an impact on the absolute delay variables. Once again, good news."
   ]
  },
  {
   "cell_type": "code",
   "execution_count": 7,
   "id": "9663faed",
   "metadata": {},
   "outputs": [
    {
     "name": "stdout",
     "output_type": "stream",
     "text": [
      "Rel_Arr_Delay_train           0.622760\n",
      "Rel_Dep_Delay_train           0.653477\n",
      "Arrival Delay in Minutes      0.965035\n",
      "Departure Delay in Minutes    1.000000\n",
      "satisfaction                 -0.051023\n",
      "Name: Departure Delay in Minutes, dtype: float64\n"
     ]
    }
   ],
   "source": [
    "print(_rel_delay_compare.corr()['Departure Delay in Minutes'])"
   ]
  },
  {
   "cell_type": "markdown",
   "id": "f06ade3f",
   "metadata": {},
   "source": [
    "Given the above, let's add one of the relative delay variables into our model. Given people might care more about the relative delay in arrival, let's choose to include that. "
   ]
  },
  {
   "cell_type": "code",
   "execution_count": 8,
   "id": "0d44d647",
   "metadata": {},
   "outputs": [],
   "source": [
    "train_data_num['Relative Arrival Delay'] = Rel_Arr_Delay_train\n",
    "test_data_num['Relative Arrival Delay'] = Rel_Arr_Delay_test\n",
    "\n",
    "train_data_final = train_data_num.copy()\n",
    "test_data_final = test_data_num.copy()"
   ]
  },
  {
   "cell_type": "markdown",
   "id": "abd5a847",
   "metadata": {},
   "source": [
    "**Average 'satisfaction' per bins of Relative Delay**<br/>\n",
    "Before we end the section, we can also check if our assumption about longer relative wait times being worse might appear in the data. <br/>\n",
    "Below is a satisfaction graph by quantiles."
   ]
  },
  {
   "cell_type": "code",
   "execution_count": 9,
   "id": "30f370e4",
   "metadata": {},
   "outputs": [
    {
     "name": "stdout",
     "output_type": "stream",
     "text": [
      "\n"
     ]
    },
    {
     "data": {
      "image/png": "[encoded data removed]",
      "text/plain": [
       "<Figure size 432x288 with 1 Axes>"
      ]
     },
     "metadata": {
      "needs_background": "light"
     },
     "output_type": "display_data"
    }
   ],
   "source": [
    "_, bin_pos =  pd.qcut(Rel_Arr_Delay_train[Rel_Arr_Delay_train > 0], \n",
    "                                         q=19, retbins=True)\n",
    "bins = np.insert(bin_pos, 0, -1)\n",
    "\n",
    "_df = pd.DataFrame({'Rel_Arr_Delay':Rel_Arr_Delay_train, \n",
    "                    'satisfaction':train_data_final['satisfaction']})\n",
    "\n",
    "_df['bins'] = pd.cut(_df['Rel_Arr_Delay'], bins=bins, \n",
    "                     labels = list(range(1,21)))\n",
    "\n",
    "_df_pivot = _df.pivot_table(index='bins', values=['Rel_Arr_Delay','satisfaction'], aggfunc=['count', 'mean'])\n",
    "_df_pivot['Sample Count'] = _df_pivot['count']['satisfaction']\n",
    "_df_pivot['Avg. Satisfaction'] = _df_pivot['mean']['satisfaction']\n",
    "_df_pivot['Percent Delay'] = _df_pivot['mean']['Rel_Arr_Delay']\n",
    "_df_pivot.drop(['count', 'mean'], axis=1, inplace=True)\n",
    "_df_pivot.reset_index()\n",
    "#print(_df_pivot)\n",
    "ax = sns.scatterplot(y='Avg. Satisfaction', x=_df_pivot.index, size='Sample Count', data = _df_pivot)\n",
    "ax.set_xticks(range(0,21))\n",
    "ax.set_xlabel('Bins of Relative Arrival Delay (Bin 1 is Rel Arr Del == 0)')\n",
    "print()"
   ]
  },
  {
   "cell_type": "markdown",
   "id": "b6c7482d",
   "metadata": {},
   "source": [
    "**One Last Look at Relative Arrival Delay with Delay > 0**<br/>\n",
    "We will save the variables and move on to the next stage: Feature ExtractionThe graph above suggests an interesting point - that Bin 0 (the case where delay is zero) disrupts a trend we see in the remaining bins.<br/>\n",
    "So, Bin 0 may not be as informative as we think in making a classification.<br/>\n",
    "Given this, it may make sense to judge discrinating power of Relative Arrival Delay for beyond 0 delay."
   ]
  },
  {
   "cell_type": "code",
   "execution_count": 10,
   "id": "b2754fcd",
   "metadata": {},
   "outputs": [
    {
     "data": {
      "text/html": [
       "<div>\n",
       "<style scoped>\n",
       "    .dataframe tbody tr th:only-of-type {\n",
       "        vertical-align: middle;\n",
       "    }\n",
       "\n",
       "    .dataframe tbody tr th {\n",
       "        vertical-align: top;\n",
       "    }\n",
       "\n",
       "    .dataframe thead th {\n",
       "        text-align: right;\n",
       "    }\n",
       "</style>\n",
       "<table border=\"1\" class=\"dataframe\">\n",
       "  <thead>\n",
       "    <tr style=\"text-align: right;\">\n",
       "      <th></th>\n",
       "      <th>Relative Arrival Delay</th>\n",
       "      <th>Arrival Delay in Minutes</th>\n",
       "      <th>satisfaction</th>\n",
       "    </tr>\n",
       "  </thead>\n",
       "  <tbody>\n",
       "    <tr>\n",
       "      <th>Relative Arrival Delay</th>\n",
       "      <td>1.000000</td>\n",
       "      <td>0.604434</td>\n",
       "      <td>-0.096371</td>\n",
       "    </tr>\n",
       "    <tr>\n",
       "      <th>Arrival Delay in Minutes</th>\n",
       "      <td>0.604434</td>\n",
       "      <td>1.000000</td>\n",
       "      <td>-0.029810</td>\n",
       "    </tr>\n",
       "    <tr>\n",
       "      <th>satisfaction</th>\n",
       "      <td>-0.096371</td>\n",
       "      <td>-0.029810</td>\n",
       "      <td>1.000000</td>\n",
       "    </tr>\n",
       "  </tbody>\n",
       "</table>\n",
       "</div>"
      ],
      "text/plain": [
       "                          Relative Arrival Delay  Arrival Delay in Minutes  \\\n",
       "Relative Arrival Delay                  1.000000                  0.604434   \n",
       "Arrival Delay in Minutes                0.604434                  1.000000   \n",
       "satisfaction                           -0.096371                 -0.029810   \n",
       "\n",
       "                          satisfaction  \n",
       "Relative Arrival Delay       -0.096371  \n",
       "Arrival Delay in Minutes     -0.029810  \n",
       "satisfaction                  1.000000  "
      ]
     },
     "execution_count": 10,
     "metadata": {},
     "output_type": "execute_result"
    }
   ],
   "source": [
    "Rel_Arr_Delay_filter = train_data_final['Relative Arrival Delay']>0\n",
    "train_data_final[['Relative Arrival Delay' , 'Arrival Delay in Minutes', 'satisfaction']]\\\n",
    "              [Rel_Arr_Delay_filter].corr()"
   ]
  },
  {
   "cell_type": "markdown",
   "id": "db7c3518",
   "metadata": {},
   "source": [
    "We see that the correlation of 'Relative Arrival Delay' with 'satisfaction' is even stronger for values greater than zero while that of 'Arrival Delay in Minutes' is now less.<br/> \n",
    "This gives us more assurance that the introduction of the new variable was a good idea.<br/>"
   ]
  },
  {
   "cell_type": "markdown",
   "id": "93776d97",
   "metadata": {},
   "source": [
    "**Save Variables**<br/>\n",
    "We will save the variables and move on to the next stage: Modelling"
   ]
  },
  {
   "cell_type": "code",
   "execution_count": 11,
   "id": "922993ce",
   "metadata": {},
   "outputs": [],
   "source": [
    "pd.to_pickle(train_data_final, 'data/model/train_data_final.pkl')\n",
    "pd.to_pickle(test_data_final, 'data/model/test_data_final.pkl')"
   ]
  },
  {
   "cell_type": "code",
   "execution_count": null,
   "id": "bd309400",
   "metadata": {},
   "outputs": [],
   "source": []
  }
 ],
 "metadata": {
  "interpreter": {
   "hash": "220e10ff8ec8c0a2ee704b9ba1623fbaf79aa98a681a616ca665c089912d6d5d"
  },
  "kernelspec": {
   "display_name": "Python 3",
   "language": "python",
   "name": "python3"
  },
  "language_info": {
   "codemirror_mode": {
    "name": "ipython",
    "version": 3
   },
   "file_extension": ".py",
   "mimetype": "text/x-python",
   "name": "python",
   "nbconvert_exporter": "python",
   "pygments_lexer": "ipython3",
   "version": "3.9.4"
  }
 },
 "nbformat": 4,
 "nbformat_minor": 5
}
