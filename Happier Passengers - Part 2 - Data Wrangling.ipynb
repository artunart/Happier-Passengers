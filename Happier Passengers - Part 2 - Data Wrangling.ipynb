{
 "cells": [
  {
   "cell_type": "markdown",
   "id": "74c9b9f8",
   "metadata": {},
   "source": [
    "<h1>Part 2 - Data Wrangling</h1>"
   ]
  },
  {
   "cell_type": "code",
   "execution_count": 1,
   "id": "3dbf926a",
   "metadata": {},
   "outputs": [],
   "source": [
    "#import packages\n",
    "import numpy as np\n",
    "import pandas as pd\n",
    "import matplotlib.pyplot as plt\n",
    "import seaborn as sns"
   ]
  },
  {
   "cell_type": "markdown",
   "id": "1d6e091f",
   "metadata": {},
   "source": [
    "**Import Data and Restate Variables**"
   ]
  },
  {
   "cell_type": "code",
   "execution_count": 2,
   "id": "168268c9",
   "metadata": {},
   "outputs": [],
   "source": [
    "train_data = pd.read_pickle('data/model/train_data.pkl')\n",
    "test_data = pd.read_pickle('data/model/test_data.pkl')\n",
    "\n",
    "vars_cont = ['Age', 'Flight Distance', 'Arrival Delay in Minutes', 'Departure Delay in Minutes']\n",
    "\n",
    "vars_cat_num = ['Inflight wifi service', 'Departure/Arrival time convenient', 'Ease of Online booking',\n",
    "       'Gate location', 'Food and drink', 'Online boarding', 'Seat comfort',\n",
    "       'Inflight entertainment', 'On-board service', 'Leg room service',\n",
    "       'Baggage handling', 'Checkin service', 'Inflight service',\n",
    "       'Cleanliness']\n",
    "\n",
    "vars_cat_str = ['Gender', 'Customer Type', 'Type of Travel', 'Class', 'satisfaction']"
   ]
  },
  {
   "cell_type": "markdown",
   "id": "c36ad96c",
   "metadata": {},
   "source": [
    "**Map Categorical String Variables**\n",
    "\n",
    "Here, we map the categorical string variables to numerical values for use in our models.<br/>\n",
    "\n",
    "Here we justify mapping the categories into this numerical scheme on the basis that they are mostly binary. For the only cateforical variable with three values, we tried to make it such that the outcome would be more or less ordinal (i.e. in general prices paid Eco is ess than Eco Plus and price paid for Eco Plus is less than Business)\n",
    "\n",
    "The plan is to use a an ensemble of trees, therefore it makes sense for splits to result in more easily interpretable sets."
   ]
  },
  {
   "cell_type": "code",
   "execution_count": 3,
   "id": "f45c5743",
   "metadata": {},
   "outputs": [],
   "source": [
    "gender_dict = dict([('Male',0), ('Female',1)])\n",
    "cust_type_dict = dict([('disloyal Customer', 0), ('Loyal Customer', 1)])\n",
    "travel_dict = dict([('Personal Travel',0), ('Business travel',1)])\n",
    "class_dict = dict([('Eco',0),('Eco Plus',1), ('Business',2)])\n",
    "sat_dict = dict([('neutral or dissatisfied',0), ('satisfied',1)])\n",
    "\n",
    "category_dict = dict([('Gender', gender_dict),\n",
    "                     ('Customer Type', cust_type_dict),\n",
    "                     ('Type of Travel', travel_dict),\n",
    "                     ('Class', class_dict),\n",
    "                     ('satisfaction', sat_dict)])\n",
    "\n",
    "train_data_num = train_data.copy()\n",
    "test_data_num = test_data.copy()\n",
    "\n",
    "for _ in vars_cat_str:\n",
    "        train_data_num[_] = train_data_num[_].map(lambda x: category_dict[_][x])\n",
    "        test_data_num[_] = test_data_num[_].map(lambda x: category_dict[_][x])"
   ]
  },
  {
   "cell_type": "markdown",
   "id": "af754c39",
   "metadata": {},
   "source": [
    "**Drop NAs and drop 0s in Survey Questions**"
   ]
  },
  {
   "cell_type": "code",
   "execution_count": 4,
   "id": "606cb388",
   "metadata": {},
   "outputs": [
    {
     "name": "stdout",
     "output_type": "stream",
     "text": [
      "              Training Size   Test Size\n",
      "Before Drop:        103,904      25,976\n",
      "After NA Drop:      103,594      25,893\n",
      "After 0 Drop:        95,415      23,789\n"
     ]
    }
   ],
   "source": [
    "print('              Training Size   Test Size')\n",
    "print('Before Drop:        {0:,d}      {1:,d}'.format(len(train_data_num), len(test_data_num)))\n",
    "train_data_num.dropna(how='any', inplace=True)\n",
    "test_data_num.dropna(how='any', inplace=True)\n",
    "\n",
    "print('After NA Drop:      {0:,d}      {1:,d}'.format(len(train_data_num), len(test_data_num)))\n",
    "\n",
    "train_data_num = train_data_num[~(train_data_num[vars_cat_num]==0).any(axis=1)]\n",
    "test_data_num = test_data_num[~(test_data_num[vars_cat_num]==0).any(axis=1)]\n",
    "print('After 0 Drop:        {0:,d}      {1:,d}'.format(len(train_data_num), len(test_data_num)))"
   ]
  },
  {
   "cell_type": "markdown",
   "id": "e0e43a2c",
   "metadata": {},
   "source": [
    "**Save Variables**<br/>\n",
    "We will save the variables and move on to the next stage: Feature Extraction"
   ]
  },
  {
   "cell_type": "code",
   "execution_count": 5,
   "id": "e9c1845a",
   "metadata": {},
   "outputs": [],
   "source": [
    "pd.to_pickle(train_data_num, 'data/model/train_data_num_pkl')\n",
    "pd.to_pickle(test_data_num, 'data/model/test_data_num_pkl')"
   ]
  }
 ],
 "metadata": {
  "interpreter": {
   "hash": "220e10ff8ec8c0a2ee704b9ba1623fbaf79aa98a681a616ca665c089912d6d5d"
  },
  "kernelspec": {
   "display_name": "Python 3",
   "language": "python",
   "name": "python3"
  },
  "language_info": {
   "codemirror_mode": {
    "name": "ipython",
    "version": 3
   },
   "file_extension": ".py",
   "mimetype": "text/x-python",
   "name": "python",
   "nbconvert_exporter": "python",
   "pygments_lexer": "ipython3",
   "version": "3.9.4"
  }
 },
 "nbformat": 4,
 "nbformat_minor": 5
}
