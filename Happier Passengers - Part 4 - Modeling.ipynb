{
 "cells": [
  {
   "cell_type": "markdown",
   "id": "1a1af337",
   "metadata": {},
   "source": [
    "<h1>Part 4 - Modeling</h1> <br/>\n",
    "\n",
    "**View from 30,000 feet**<br/>\n",
    "-The objective is **\"to quantify and rank the factors that impact passenger satisfaction.\"** <br/> \n",
    "-Among those factors, the ones that we would be most **interested in are the ones that we could exert some control** - i.e. those variables in the survey that are asked to be rated from 1 to 5 (i.e. those in \"vars_cat_num\" in the code).<br/>\n",
    "-Conceivably, if we could **calibrate a model that would accurately represent passenger satisfaction**, we could **perform sensitivity analysis** around these variables of influence. <br/>\n",
    "    An example, would be to ask the counterfactual question: **\"How would the general satisfaction change if for everyone who rated \"Cleanliness\" at 3, the \"Cleanliness\" rating, instead, went up to 4?\"**<br/>\n",
    "-If we performed this analysis for every variable, then we would have a predictive output that the rest of the company could use to help guide short- and long-term projects.\n",
    "\n",
    "\n",
    "\n",
    "**Implementation Steps**<br/>\n",
    "-Take a look all variables to have an idea about how the final factor importance could look like.<br/>\n",
    "-Train two ensemble tree models (Random Forest vs AdaBoost) with cross-validation using grid search for optimal tree depth and decide on one.<br/>\n",
    "-Retrain the model based on all training data available. <br/>\n",
    "-Calculate the average impact on satisfaction for all variables at various base levels. <br/>\n",
    "\n"
   ]
  },
  {
   "cell_type": "code",
   "execution_count": 1,
   "id": "1812d6ff",
   "metadata": {},
   "outputs": [],
   "source": [
    "#import packages\n",
    "import numpy as np\n",
    "import pandas as pd\n",
    "import matplotlib.pyplot as plt\n",
    "import seaborn as sns\n",
    "\n",
    "from sklearn.ensemble import RandomForestClassifier\n",
    "from sklearn.model_selection import train_test_split\n",
    "from sklearn.ensemble import AdaBoostClassifier\n",
    "from sklearn.tree import DecisionTreeClassifier\n",
    "from sklearn.metrics import f1_score, accuracy_score, precision_score, recall_score, make_scorer\n",
    "from sklearn.model_selection import GridSearchCV"
   ]
  },
  {
   "cell_type": "markdown",
   "id": "44d9e1c9",
   "metadata": {},
   "source": [
    "**Import Data and Restate Variables**"
   ]
  },
  {
   "cell_type": "code",
   "execution_count": 2,
   "id": "f9c264e8",
   "metadata": {},
   "outputs": [
    {
     "name": "stdout",
     "output_type": "stream",
     "text": [
      "Show Dataset has no NAs:\n",
      "Gender                               0\n",
      "Customer Type                        0\n",
      "Age                                  0\n",
      "Type of Travel                       0\n",
      "Class                                0\n",
      "Flight Distance                      0\n",
      "Inflight wifi service                0\n",
      "Departure/Arrival time convenient    0\n",
      "Ease of Online booking               0\n",
      "Gate location                        0\n",
      "Food and drink                       0\n",
      "Online boarding                      0\n",
      "Seat comfort                         0\n",
      "Inflight entertainment               0\n",
      "On-board service                     0\n",
      "Leg room service                     0\n",
      "Baggage handling                     0\n",
      "Checkin service                      0\n",
      "Inflight service                     0\n",
      "Cleanliness                          0\n",
      "Departure Delay in Minutes           0\n",
      "Arrival Delay in Minutes             0\n",
      "satisfaction                         0\n",
      "Relative Arrival Delay               0\n",
      "dtype: int64\n"
     ]
    }
   ],
   "source": [
    "train_data_final = pd.read_pickle('data/model/train_data_final.pkl')\n",
    "test_data_final = pd.read_pickle('data/model/test_data_final.pkl')\n",
    "print('Show Dataset has no NAs:')\n",
    "print(test_data_final.isna().sum())\n",
    "\n",
    "vars_cont = ['Age', 'Flight Distance', 'Arrival Delay in Minutes', 'Departure Delay in Minutes']\n",
    "\n",
    "vars_cat_num = ['Inflight wifi service', 'Departure/Arrival time convenient', 'Ease of Online booking',\n",
    "       'Gate location', 'Food and drink', 'Online boarding', 'Seat comfort',\n",
    "       'Inflight entertainment', 'On-board service', 'Leg room service',\n",
    "       'Baggage handling', 'Checkin service', 'Inflight service',\n",
    "       'Cleanliness']\n",
    "\n",
    "vars_cat_str = ['Gender', 'Customer Type', 'Type of Travel', 'Class', 'satisfaction']"
   ]
  },
  {
   "cell_type": "markdown",
   "id": "4ad90f1f",
   "metadata": {},
   "source": [
    "**A Correlation Analysis Before Running A Tree-Based Model**<br/>\n",
    "This will help us visualize the problem space.\n"
   ]
  },
  {
   "cell_type": "code",
   "execution_count": 3,
   "id": "f359e838",
   "metadata": {},
   "outputs": [
    {
     "name": "stdout",
     "output_type": "stream",
     "text": [
      "\n"
     ]
    },
    {
     "data": {
      "image/png": "[encoded data removed]",
      "text/plain": [
       "<Figure size 432x288 with 1 Axes>"
      ]
     },
     "metadata": {
      "needs_background": "light"
     },
     "output_type": "display_data"
    }
   ],
   "source": [
    "feat_corr_with_sat = train_data_final.corr()['satisfaction'].sort_values(ascending=False).drop(['satisfaction'])\n",
    "feat_corr_with_sat.plot(kind='barh')\n",
    "plt.title('Correlation of Satisfaction Among All Surveytakers'); print()"
   ]
  },
  {
   "cell_type": "markdown",
   "id": "678034bc",
   "metadata": {},
   "source": [
    "**Use Random Forests to Calibrate the Training Set**<br/>"
   ]
  },
  {
   "cell_type": "code",
   "execution_count": 4,
   "id": "0b3e1e5f",
   "metadata": {},
   "outputs": [
    {
     "name": "stdout",
     "output_type": "stream",
     "text": [
      "Fitting 5 folds for each of 15 candidates, totalling 75 fits\n"
     ]
    }
   ],
   "source": [
    "max_depth_param = 15\n",
    "param_grid_rf = {'max_depth':list(range(1, max_depth_param + 1))} #default n_estimators for Random Forest is 100.\n",
    "clf_rf = RandomForestClassifier()\n",
    "\n",
    "scorer= {'f1_score':make_scorer(f1_score), \n",
    "             'precision_score':make_scorer(precision_score),\n",
    "             'recall_score':make_scorer(recall_score),\n",
    "             'accuracy_score':make_scorer(accuracy_score)}\n",
    "clf_rf_cv = GridSearchCV(clf_rf, param_grid_rf, cv=5, n_jobs=-1, scoring = scorer, refit='f1_score', verbose=3)\n",
    "clf_rf_cv.fit(train_data_final.drop(['satisfaction'], axis=1),train_data_final['satisfaction']);"
   ]
  },
  {
   "cell_type": "code",
   "execution_count": 5,
   "id": "ba139398",
   "metadata": {},
   "outputs": [],
   "source": [
    "clf_rf_cv_results = pd.DataFrame(clf_rf_cv.cv_results_)"
   ]
  },
  {
   "cell_type": "markdown",
   "id": "c18b3dac",
   "metadata": {},
   "source": [
    "**Use Ada Boost to Calibrate the Training Set**<br/>"
   ]
  },
  {
   "cell_type": "code",
   "execution_count": 6,
   "id": "9eeaf9d3",
   "metadata": {},
   "outputs": [
    {
     "name": "stdout",
     "output_type": "stream",
     "text": [
      "Fitting 5 folds for each of 15 candidates, totalling 75 fits\n"
     ]
    },
    {
     "data": {
      "text/plain": [
       "GridSearchCV(cv=5,\n",
       "             estimator=AdaBoostClassifier(base_estimator=DecisionTreeClassifier()),\n",
       "             n_jobs=-1,\n",
       "             param_grid={'base_estimator__max_depth': [1, 2, 3, 4, 5, 6, 7, 8,\n",
       "                                                       9, 10, 11, 12, 13, 14,\n",
       "                                                       15],\n",
       "                         'n_estimators': [100]},\n",
       "             refit='f1_score',\n",
       "             scoring={'accuracy_score': make_scorer(accuracy_score),\n",
       "                      'f1_score': make_scorer(f1_score),\n",
       "                      'precision_score': make_scorer(precision_score),\n",
       "                      'recall_score': make_scorer(recall_score)},\n",
       "             verbose=3)"
      ]
     },
     "execution_count": 6,
     "metadata": {},
     "output_type": "execute_result"
    }
   ],
   "source": [
    "param_grid_ada = {'base_estimator__max_depth':list(range(1, max_depth_param + 1)), 'n_estimators':[100]}\n",
    "clf_tree = DecisionTreeClassifier()\n",
    "clf_ada = AdaBoostClassifier(clf_tree)\n",
    "clf_ada_cv = GridSearchCV(clf_ada, param_grid_ada, cv=5, n_jobs=-1, scoring = scorer, refit='f1_score', verbose=3)\n",
    "clf_ada_cv.fit(train_data_final.drop(['satisfaction'], axis=1),train_data_final['satisfaction'])"
   ]
  },
  {
   "cell_type": "code",
   "execution_count": 7,
   "id": "831fed81",
   "metadata": {},
   "outputs": [],
   "source": [
    "clf_ada_cv_results = pd.DataFrame(clf_ada_cv.cv_results_)"
   ]
  },
  {
   "cell_type": "markdown",
   "id": "500a32e9",
   "metadata": {},
   "source": [
    "**Decide on the Model**<br/>"
   ]
  },
  {
   "cell_type": "code",
   "execution_count": 8,
   "id": "0b8628dd",
   "metadata": {},
   "outputs": [
    {
     "data": {
      "image/png": "[encoded data removed]",
      "text/plain": [
       "<Figure size 864x576 with 4 Axes>"
      ]
     },
     "metadata": {
      "needs_background": "light"
     },
     "output_type": "display_data"
    }
   ],
   "source": [
    "clf_rf_cv_results['Method'] = 'RF'\n",
    "clf_rf_cv_results['Max Tree Depth'] = list(range(1, max_depth_param+1))\n",
    "\n",
    "clf_ada_cv_results['Method'] = 'AdaBoost'\n",
    "clf_ada_cv_results['Max Tree Depth'] = list(range(1, max_depth_param+1))\n",
    "\n",
    "\n",
    "combined_cv_results = pd.concat([clf_rf_cv_results, clf_ada_cv_results])\n",
    "\n",
    "score_list = [[['mean_test_accuracy_score', 'std_test_accuracy_score', 'Accuracy'],\n",
    "               ['mean_test_f1_score', 'std_test_f1_score', 'F1 Score']],\n",
    "              [['mean_test_precision_score', 'std_test_precision_score', 'Precision'],\n",
    "               ['mean_test_recall_score', 'std_test_recall_score', 'Recall']]]\n",
    "\n",
    "\n",
    "def plot_scores_rf_ada(df, score_var_name, error_var_name, scorer_name, ax):\n",
    "    rng = len(df)//2\n",
    "    ax.errorbar(list(range(0,rng)), \n",
    "                 combined_cv_results[combined_cv_results['Method']=='RF'][score_var_name],\n",
    "                yerr = 2*combined_cv_results[combined_cv_results['Method']=='RF'][error_var_name])\n",
    "    ax.errorbar(list(range(0,rng)), \n",
    "                 combined_cv_results[combined_cv_results['Method']=='AdaBoost'][score_var_name],\n",
    "                yerr = 2*combined_cv_results[combined_cv_results['Method']=='AdaBoost'][error_var_name],\n",
    "                color = 'orange')\n",
    "    ax.set_xticks(range(0, 15))\n",
    "    ax.set_xticklabels(range(1, 16))\n",
    "    ax.set_ylim(0.7, 1)\n",
    "    ax.set_xlabel('Max Tree Depth')\n",
    "    ax.set_ylabel(scorer_name+' Mean Test Score')\n",
    "    ax.legend(['Random Forest', 'AdaBoost'], loc='lower right')\n",
    "    ax.set_title(scorer_name+': Mean Test Scores with Error Bars (2std)')\n",
    "    \n",
    "combined_cv_results\n",
    "fig, ax = plt.subplots(2,2)\n",
    "fig.set_size_inches(12, 8)\n",
    "plt.subplots_adjust(hspace=0.4)\n",
    "plt.suptitle(\"Model Comparison: Random Forest vs AdaBoost\")\n",
    "\n",
    "for _i in range(0, 2):\n",
    "    for _j in range(0, 2):\n",
    "        plot_scores_rf_ada(combined_cv_results, \n",
    "                           score_list[_i][_j][0], \n",
    "                           score_list[_i][_j][1], \n",
    "                           score_list[_i][_j][2], \n",
    "                           ax[_i][_j])\n",
    "        ax[_i][_j].annotate(text = '*', size=16,\n",
    "                            xy=[1.8, combined_cv_results[combined_cv_results['Method']=='AdaBoost'][score_list[_i][_j][0]][2]], color = 'red')"
   ]
  },
  {
   "cell_type": "markdown",
   "id": "f109e954",
   "metadata": {},
   "source": [
    "Although, the models seem to behave similarly in terms of scores at higher Max Tree Depth values, we see that the AdaBoost with lower Max Tree Depth values also shows a similar performance to the higher end models.</br> Given the parsimony of these low Max Tree Depth AdaBoost models, I choose an AdaBoost model - particularly the one with depth 3."
   ]
  },
  {
   "cell_type": "markdown",
   "id": "d16c235f",
   "metadata": {},
   "source": [
    "\n",
    "**Retrain On All Available Training Data and Display Feature Importance**<br/>"
   ]
  },
  {
   "cell_type": "code",
   "execution_count": 9,
   "id": "d7b7e887",
   "metadata": {},
   "outputs": [
    {
     "data": {
      "text/plain": [
       "AdaBoostClassifier(base_estimator=DecisionTreeClassifier(max_depth=3),\n",
       "                   n_estimators=100)"
      ]
     },
     "execution_count": 9,
     "metadata": {},
     "output_type": "execute_result"
    }
   ],
   "source": [
    "train_X = train_data_final.drop(['satisfaction'], axis=1)\n",
    "train_y = train_data_final['satisfaction']\n",
    "\n",
    "test_X = test_data_final.drop(['satisfaction'], axis=1)\n",
    "test_y = test_data_final['satisfaction']\n",
    "\n",
    "clf_best_tree = DecisionTreeClassifier(max_depth=3)\n",
    "clf_best = AdaBoostClassifier(clf_best_tree, n_estimators=100)\n",
    "\n",
    "clf_best.fit(train_X,train_y)"
   ]
  },
  {
   "cell_type": "markdown",
   "id": "9ece6e33",
   "metadata": {},
   "source": [
    "**Run the Final Model on Test Data and Present Curves**<br/>"
   ]
  },
  {
   "cell_type": "code",
   "execution_count": 10,
   "id": "601a31f3",
   "metadata": {},
   "outputs": [
    {
     "name": "stdout",
     "output_type": "stream",
     "text": [
      "Final Model (AdaBoost) Scores\n",
      "Accuracy:  0.956\n",
      "F1 Score:  0.949\n",
      "Precision: 0.956\n",
      "Recall:    0.941\n"
     ]
    }
   ],
   "source": [
    "print('Final Model (AdaBoost) Scores')\n",
    "print('Accuracy:  {0:.3f}'.format(accuracy_score(test_y, clf_best.predict(test_X))))\n",
    "print('F1 Score:  {0:.3f}'.format(f1_score(test_y, clf_best.predict(test_X))))\n",
    "print('Precision: {0:.3f}'.format(precision_score(test_y, clf_best.predict(test_X))))\n",
    "print('Recall:    {0:.3f}'.format(recall_score(test_y, clf_best.predict(test_X))))"
   ]
  },
  {
   "cell_type": "code",
   "execution_count": 11,
   "id": "16954495",
   "metadata": {},
   "outputs": [
    {
     "data": {
      "image/png": "[encoded data removed]",
      "text/plain": [
       "<Figure size 432x288 with 1 Axes>"
      ]
     },
     "metadata": {
      "needs_background": "light"
     },
     "output_type": "display_data"
    }
   ],
   "source": [
    "from sklearn.metrics import plot_roc_curve, roc_auc_score\n",
    "ax = plot_roc_curve(clf_best, test_X, test_y)\n",
    "ax.ax_.set_title(\"Final Model ROC Curve on Test Data\");"
   ]
  },
  {
   "cell_type": "code",
   "execution_count": 12,
   "id": "befc4f32",
   "metadata": {},
   "outputs": [
    {
     "data": {
      "image/png": "[encoded data removed]",
      "text/plain": [
       "<Figure size 432x288 with 1 Axes>"
      ]
     },
     "metadata": {
      "needs_background": "light"
     },
     "output_type": "display_data"
    }
   ],
   "source": [
    "from sklearn.metrics import plot_precision_recall_curve\n",
    "ax = plot_precision_recall_curve(clf_best, test_X, test_y)\n",
    "ax.ax_.set_title(\"Final Model Precision-Recall Curve on Test Data\");"
   ]
  },
  {
   "cell_type": "markdown",
   "id": "e1111c25",
   "metadata": {},
   "source": [
    "\n",
    "**Display Feature Importance**<br/>"
   ]
  },
  {
   "cell_type": "code",
   "execution_count": 13,
   "id": "55402ecf",
   "metadata": {},
   "outputs": [
    {
     "name": "stdout",
     "output_type": "stream",
     "text": [
      "\n"
     ]
    },
    {
     "data": {
      "image/png": "[encoded data removed]",
      "text/plain": [
       "<Figure size 432x288 with 1 Axes>"
      ]
     },
     "metadata": {
      "needs_background": "light"
     },
     "output_type": "display_data"
    }
   ],
   "source": [
    "feature_df = pd.DataFrame(data={'Importance':clf_best.feature_importances_}, index=train_X.columns)\n",
    "feature_df.sort_values(by='Importance', ascending=False, inplace=True)\n",
    "feature_df.plot(kind='barh')\n",
    "plt.title('Final Model Feature Importance'); print()"
   ]
  },
  {
   "cell_type": "markdown",
   "id": "cb9a6038",
   "metadata": {},
   "source": [
    "**Quantify and Rank Factors that Impact Customer Satisfaction**<br/>\n",
    "\n",
    "Let's imagine the following experiment: <br/>\n",
    "If all the passengers who responded to, say, ‘On-board service’ with a 3 (out of 5) were to increase their scores to 4, how would this group's average satisfaction change?<br/>\n",
    "Taking the argument one step futher, we can also estimate how overall satisfaction would change if the average score, say, in Cleanliness Category, were to increase by 0.5 on average, spread across various score groups. <br/> <br/>\n",
    "These datapoints, coupled with some other data, say, cost of improving these factors, could lead the company to prioritize initiatives.\n",
    "\n"
   ]
  },
  {
   "cell_type": "code",
   "execution_count": 14,
   "id": "9b425f32",
   "metadata": {},
   "outputs": [],
   "source": [
    "#build a model on relative delay (and flight characteristics (distance)) for prospective deployments"
   ]
  },
  {
   "cell_type": "code",
   "execution_count": 15,
   "id": "ea5a1a55",
   "metadata": {},
   "outputs": [
    {
     "name": "stdout",
     "output_type": "stream",
     "text": [
      "Average Satisfaction per Category and Score - Test Data\n"
     ]
    },
    {
     "data": {
      "text/html": [
       "<div>\n",
       "<style scoped>\n",
       "    .dataframe tbody tr th:only-of-type {\n",
       "        vertical-align: middle;\n",
       "    }\n",
       "\n",
       "    .dataframe tbody tr th {\n",
       "        vertical-align: top;\n",
       "    }\n",
       "\n",
       "    .dataframe thead th {\n",
       "        text-align: right;\n",
       "    }\n",
       "</style>\n",
       "<table border=\"1\" class=\"dataframe\">\n",
       "  <thead>\n",
       "    <tr style=\"text-align: right;\">\n",
       "      <th></th>\n",
       "      <th>1</th>\n",
       "      <th>2</th>\n",
       "      <th>3</th>\n",
       "      <th>4</th>\n",
       "      <th>5</th>\n",
       "    </tr>\n",
       "  </thead>\n",
       "  <tbody>\n",
       "    <tr>\n",
       "      <th>Inflight wifi service</th>\n",
       "      <td>36.4%</td>\n",
       "      <td>25.3%</td>\n",
       "      <td>26.8%</td>\n",
       "      <td>61.1%</td>\n",
       "      <td>98.7%</td>\n",
       "    </tr>\n",
       "    <tr>\n",
       "      <th>Departure/Arrival time convenient</th>\n",
       "      <td>50.2%</td>\n",
       "      <td>44.2%</td>\n",
       "      <td>44.2%</td>\n",
       "      <td>38.3%</td>\n",
       "      <td>41.3%</td>\n",
       "    </tr>\n",
       "    <tr>\n",
       "      <th>Ease of Online booking</th>\n",
       "      <td>39.5%</td>\n",
       "      <td>31.2%</td>\n",
       "      <td>32.6%</td>\n",
       "      <td>53.3%</td>\n",
       "      <td>71.0%</td>\n",
       "    </tr>\n",
       "    <tr>\n",
       "      <th>Gate location</th>\n",
       "      <td>50.6%</td>\n",
       "      <td>46.5%</td>\n",
       "      <td>33.4%</td>\n",
       "      <td>38.9%</td>\n",
       "      <td>55.1%</td>\n",
       "    </tr>\n",
       "    <tr>\n",
       "      <th>Food and drink</th>\n",
       "      <td>16.8%</td>\n",
       "      <td>37.9%</td>\n",
       "      <td>39.7%</td>\n",
       "      <td>52.7%</td>\n",
       "      <td>55.4%</td>\n",
       "    </tr>\n",
       "    <tr>\n",
       "      <th>Online boarding</th>\n",
       "      <td>12.5%</td>\n",
       "      <td>10.6%</td>\n",
       "      <td>14.2%</td>\n",
       "      <td>61.9%</td>\n",
       "      <td>86.7%</td>\n",
       "    </tr>\n",
       "    <tr>\n",
       "      <th>Seat comfort</th>\n",
       "      <td>19.5%</td>\n",
       "      <td>20.2%</td>\n",
       "      <td>20.7%</td>\n",
       "      <td>55.6%</td>\n",
       "      <td>65.8%</td>\n",
       "    </tr>\n",
       "    <tr>\n",
       "      <th>Inflight entertainment</th>\n",
       "      <td>10.7%</td>\n",
       "      <td>17.5%</td>\n",
       "      <td>26.4%</td>\n",
       "      <td>61.4%</td>\n",
       "      <td>66.6%</td>\n",
       "    </tr>\n",
       "    <tr>\n",
       "      <th>On-board service</th>\n",
       "      <td>17.9%</td>\n",
       "      <td>23.8%</td>\n",
       "      <td>30.2%</td>\n",
       "      <td>52.4%</td>\n",
       "      <td>67.2%</td>\n",
       "    </tr>\n",
       "    <tr>\n",
       "      <th>Leg room service</th>\n",
       "      <td>17.1%</td>\n",
       "      <td>25.6%</td>\n",
       "      <td>26.5%</td>\n",
       "      <td>58.6%</td>\n",
       "      <td>62.0%</td>\n",
       "    </tr>\n",
       "    <tr>\n",
       "      <th>Baggage handling</th>\n",
       "      <td>27.7%</td>\n",
       "      <td>26.8%</td>\n",
       "      <td>23.0%</td>\n",
       "      <td>47.6%</td>\n",
       "      <td>63.3%</td>\n",
       "    </tr>\n",
       "    <tr>\n",
       "      <th>Checkin service</th>\n",
       "      <td>22.3%</td>\n",
       "      <td>23.2%</td>\n",
       "      <td>45.2%</td>\n",
       "      <td>45.3%</td>\n",
       "      <td>62.1%</td>\n",
       "    </tr>\n",
       "    <tr>\n",
       "      <th>Inflight service</th>\n",
       "      <td>27.1%</td>\n",
       "      <td>27.5%</td>\n",
       "      <td>22.7%</td>\n",
       "      <td>47.6%</td>\n",
       "      <td>62.1%</td>\n",
       "    </tr>\n",
       "    <tr>\n",
       "      <th>Cleanliness</th>\n",
       "      <td>17.2%</td>\n",
       "      <td>18.0%</td>\n",
       "      <td>43.1%</td>\n",
       "      <td>53.4%</td>\n",
       "      <td>63.1%</td>\n",
       "    </tr>\n",
       "  </tbody>\n",
       "</table>\n",
       "</div>"
      ],
      "text/plain": [
       "                                      1     2     3     4     5\n",
       "Inflight wifi service             36.4% 25.3% 26.8% 61.1% 98.7%\n",
       "Departure/Arrival time convenient 50.2% 44.2% 44.2% 38.3% 41.3%\n",
       "Ease of Online booking            39.5% 31.2% 32.6% 53.3% 71.0%\n",
       "Gate location                     50.6% 46.5% 33.4% 38.9% 55.1%\n",
       "Food and drink                    16.8% 37.9% 39.7% 52.7% 55.4%\n",
       "Online boarding                   12.5% 10.6% 14.2% 61.9% 86.7%\n",
       "Seat comfort                      19.5% 20.2% 20.7% 55.6% 65.8%\n",
       "Inflight entertainment            10.7% 17.5% 26.4% 61.4% 66.6%\n",
       "On-board service                  17.9% 23.8% 30.2% 52.4% 67.2%\n",
       "Leg room service                  17.1% 25.6% 26.5% 58.6% 62.0%\n",
       "Baggage handling                  27.7% 26.8% 23.0% 47.6% 63.3%\n",
       "Checkin service                   22.3% 23.2% 45.2% 45.3% 62.1%\n",
       "Inflight service                  27.1% 27.5% 22.7% 47.6% 62.1%\n",
       "Cleanliness                       17.2% 18.0% 43.1% 53.4% 63.1%"
      ]
     },
     "execution_count": 15,
     "metadata": {},
     "output_type": "execute_result"
    }
   ],
   "source": [
    "levels = [1,2,3,4,5]\n",
    "\n",
    "#generate a df that holds satisfaction percentages conditional on survey scores.\n",
    "base_df = pd.DataFrame(data = np.nan, columns=vars_cat_num, index=levels)\n",
    "\n",
    "#generate a df that holds the results where category score increases by 1\n",
    "increase_df = base_df.copy() \n",
    "\n",
    "\n",
    "for cat in vars_cat_num:\n",
    "    _ = test_data_final.groupby(cat).mean()['satisfaction'].sort_index()\n",
    "    base_df[cat]=_\n",
    "\n",
    "def increase_by_one(df, cat, lvl):\n",
    "    '''Increase the score of a certain survey category by 1 while scores on the rest \n",
    "    of the categories are unchanged. Return the new population.'''\n",
    "    _ = df[df[cat] == lvl]\n",
    "    _inc = _.copy()\n",
    "    _inc[cat] = _inc[cat] + 1\n",
    "    return _inc#.drop(['Gender', 'Gate location'], axis=1)\n",
    "\n",
    "#Run for each category score that one could increase the score\n",
    "for lvl in [1,2,3,4]:\n",
    "    for cat in vars_cat_num:\n",
    "        _ = increase_by_one(test_data_final, cat, lvl).drop(['satisfaction'], axis=1)\n",
    "        increase_df.loc[lvl][cat] = clf_best.predict(_).mean()\n",
    "\n",
    "#create a dataframe representing the average satisfaction change \n",
    "#(i.e. all Category and level pairs)\n",
    "inc_sat_chg_df = increase_df - base_df\n",
    "\n",
    "print('Average Satisfaction per Category and Score - Test Data')\n",
    "pd.set_option('display.float_format',  '{:.1%}'.format)\n",
    "base_df.T\n",
    "\n",
    "\n"
   ]
  },
  {
   "cell_type": "markdown",
   "id": "53b33535",
   "metadata": {},
   "source": [
    "The above table shows the base case where each cell represents the average satisfaction based on category and survey score."
   ]
  },
  {
   "cell_type": "code",
   "execution_count": 16,
   "id": "2a9176a9",
   "metadata": {},
   "outputs": [
    {
     "name": "stdout",
     "output_type": "stream",
     "text": [
      "Impact of Score Increase by 1 (e.g. (Inflight wifi service, 4) refers to the experiment where Base Score of 4 was increased to 5:\n",
      "61.1% to 88.3%\n",
      "Average Satisfaction after Scores increase by 1\n"
     ]
    },
    {
     "data": {
      "text/html": [
       "<div>\n",
       "<style scoped>\n",
       "    .dataframe tbody tr th:only-of-type {\n",
       "        vertical-align: middle;\n",
       "    }\n",
       "\n",
       "    .dataframe tbody tr th {\n",
       "        vertical-align: top;\n",
       "    }\n",
       "\n",
       "    .dataframe thead th {\n",
       "        text-align: right;\n",
       "    }\n",
       "</style>\n",
       "<table border=\"1\" class=\"dataframe\">\n",
       "  <thead>\n",
       "    <tr style=\"text-align: right;\">\n",
       "      <th></th>\n",
       "      <th>1-&gt;2</th>\n",
       "      <th>2-&gt;3</th>\n",
       "      <th>3-&gt;4</th>\n",
       "      <th>4-&gt;5</th>\n",
       "      <th>N/A</th>\n",
       "    </tr>\n",
       "  </thead>\n",
       "  <tbody>\n",
       "    <tr>\n",
       "      <th>Inflight wifi service</th>\n",
       "      <td>35.0%</td>\n",
       "      <td>24.8%</td>\n",
       "      <td>41.5%</td>\n",
       "      <td>88.3%</td>\n",
       "      <td>NaN</td>\n",
       "    </tr>\n",
       "    <tr>\n",
       "      <th>Departure/Arrival time convenient</th>\n",
       "      <td>50.1%</td>\n",
       "      <td>42.4%</td>\n",
       "      <td>42.7%</td>\n",
       "      <td>37.7%</td>\n",
       "      <td>NaN</td>\n",
       "    </tr>\n",
       "    <tr>\n",
       "      <th>Ease of Online booking</th>\n",
       "      <td>39.5%</td>\n",
       "      <td>30.8%</td>\n",
       "      <td>32.6%</td>\n",
       "      <td>51.9%</td>\n",
       "      <td>NaN</td>\n",
       "    </tr>\n",
       "    <tr>\n",
       "      <th>Gate location</th>\n",
       "      <td>18.6%</td>\n",
       "      <td>44.2%</td>\n",
       "      <td>33.0%</td>\n",
       "      <td>37.0%</td>\n",
       "      <td>NaN</td>\n",
       "    </tr>\n",
       "    <tr>\n",
       "      <th>Food and drink</th>\n",
       "      <td>15.1%</td>\n",
       "      <td>37.4%</td>\n",
       "      <td>38.7%</td>\n",
       "      <td>53.1%</td>\n",
       "      <td>NaN</td>\n",
       "    </tr>\n",
       "    <tr>\n",
       "      <th>Online boarding</th>\n",
       "      <td>12.1%</td>\n",
       "      <td>9.6%</td>\n",
       "      <td>17.9%</td>\n",
       "      <td>71.6%</td>\n",
       "      <td>NaN</td>\n",
       "    </tr>\n",
       "    <tr>\n",
       "      <th>Seat comfort</th>\n",
       "      <td>18.0%</td>\n",
       "      <td>17.7%</td>\n",
       "      <td>20.8%</td>\n",
       "      <td>62.3%</td>\n",
       "      <td>NaN</td>\n",
       "    </tr>\n",
       "    <tr>\n",
       "      <th>Inflight entertainment</th>\n",
       "      <td>11.0%</td>\n",
       "      <td>16.4%</td>\n",
       "      <td>25.9%</td>\n",
       "      <td>61.9%</td>\n",
       "      <td>NaN</td>\n",
       "    </tr>\n",
       "    <tr>\n",
       "      <th>On-board service</th>\n",
       "      <td>16.8%</td>\n",
       "      <td>24.1%</td>\n",
       "      <td>29.0%</td>\n",
       "      <td>54.2%</td>\n",
       "      <td>NaN</td>\n",
       "    </tr>\n",
       "    <tr>\n",
       "      <th>Leg room service</th>\n",
       "      <td>16.4%</td>\n",
       "      <td>24.3%</td>\n",
       "      <td>26.6%</td>\n",
       "      <td>58.4%</td>\n",
       "      <td>NaN</td>\n",
       "    </tr>\n",
       "    <tr>\n",
       "      <th>Baggage handling</th>\n",
       "      <td>27.9%</td>\n",
       "      <td>24.8%</td>\n",
       "      <td>22.9%</td>\n",
       "      <td>53.0%</td>\n",
       "      <td>NaN</td>\n",
       "    </tr>\n",
       "    <tr>\n",
       "      <th>Checkin service</th>\n",
       "      <td>22.3%</td>\n",
       "      <td>24.0%</td>\n",
       "      <td>44.4%</td>\n",
       "      <td>52.3%</td>\n",
       "      <td>NaN</td>\n",
       "    </tr>\n",
       "    <tr>\n",
       "      <th>Inflight service</th>\n",
       "      <td>26.6%</td>\n",
       "      <td>25.5%</td>\n",
       "      <td>22.3%</td>\n",
       "      <td>52.5%</td>\n",
       "      <td>NaN</td>\n",
       "    </tr>\n",
       "    <tr>\n",
       "      <th>Cleanliness</th>\n",
       "      <td>15.4%</td>\n",
       "      <td>17.5%</td>\n",
       "      <td>40.8%</td>\n",
       "      <td>60.2%</td>\n",
       "      <td>NaN</td>\n",
       "    </tr>\n",
       "  </tbody>\n",
       "</table>\n",
       "</div>"
      ],
      "text/plain": [
       "                                   1->2  2->3  3->4  4->5  N/A\n",
       "Inflight wifi service             35.0% 24.8% 41.5% 88.3%  NaN\n",
       "Departure/Arrival time convenient 50.1% 42.4% 42.7% 37.7%  NaN\n",
       "Ease of Online booking            39.5% 30.8% 32.6% 51.9%  NaN\n",
       "Gate location                     18.6% 44.2% 33.0% 37.0%  NaN\n",
       "Food and drink                    15.1% 37.4% 38.7% 53.1%  NaN\n",
       "Online boarding                   12.1%  9.6% 17.9% 71.6%  NaN\n",
       "Seat comfort                      18.0% 17.7% 20.8% 62.3%  NaN\n",
       "Inflight entertainment            11.0% 16.4% 25.9% 61.9%  NaN\n",
       "On-board service                  16.8% 24.1% 29.0% 54.2%  NaN\n",
       "Leg room service                  16.4% 24.3% 26.6% 58.4%  NaN\n",
       "Baggage handling                  27.9% 24.8% 22.9% 53.0%  NaN\n",
       "Checkin service                   22.3% 24.0% 44.4% 52.3%  NaN\n",
       "Inflight service                  26.6% 25.5% 22.3% 52.5%  NaN\n",
       "Cleanliness                       15.4% 17.5% 40.8% 60.2%  NaN"
      ]
     },
     "execution_count": 16,
     "metadata": {},
     "output_type": "execute_result"
    }
   ],
   "source": [
    "print(\"Impact of Score Increase by 1 (e.g. (Inflight wifi service, 4) refers to the experiment where Base Score of 4 was increased to 5:\\n{0:.1%} to {1:.1%}\".format(base_df['Inflight wifi service'][4], increase_df['Inflight wifi service'][4] ))\n",
    "print(\"Average Satisfaction after Scores increase by 1\")\n",
    "present_increase = increase_df.T.copy()\n",
    "present_increase.columns=[\"1->2\", \"2->3\", \"3->4\", \"4->5\", \"N/A\"]\n",
    "present_increase"
   ]
  },
  {
   "cell_type": "markdown",
   "id": "741d4cb4",
   "metadata": {},
   "source": [
    "The table above is the \"Experiment\" result which represents how an increase in survey score in a single category translates to average satisfaction."
   ]
  },
  {
   "cell_type": "code",
   "execution_count": 17,
   "id": "914b7769",
   "metadata": {},
   "outputs": [
    {
     "data": {
      "text/html": [
       "<div>\n",
       "<style scoped>\n",
       "    .dataframe tbody tr th:only-of-type {\n",
       "        vertical-align: middle;\n",
       "    }\n",
       "\n",
       "    .dataframe tbody tr th {\n",
       "        vertical-align: top;\n",
       "    }\n",
       "\n",
       "    .dataframe thead th {\n",
       "        text-align: right;\n",
       "    }\n",
       "</style>\n",
       "<table border=\"1\" class=\"dataframe\">\n",
       "  <thead>\n",
       "    <tr style=\"text-align: right;\">\n",
       "      <th></th>\n",
       "      <th>Inflight wifi service</th>\n",
       "      <th>Departure/Arrival time convenient</th>\n",
       "      <th>Ease of Online booking</th>\n",
       "      <th>Gate location</th>\n",
       "      <th>Food and drink</th>\n",
       "      <th>Online boarding</th>\n",
       "      <th>Seat comfort</th>\n",
       "      <th>Inflight entertainment</th>\n",
       "      <th>On-board service</th>\n",
       "      <th>Leg room service</th>\n",
       "      <th>Baggage handling</th>\n",
       "      <th>Checkin service</th>\n",
       "      <th>Inflight service</th>\n",
       "      <th>Cleanliness</th>\n",
       "    </tr>\n",
       "  </thead>\n",
       "  <tbody>\n",
       "    <tr>\n",
       "      <th>1</th>\n",
       "      <td>-1.4%</td>\n",
       "      <td>-0.1%</td>\n",
       "      <td>-0.0%</td>\n",
       "      <td>-31.9%</td>\n",
       "      <td>-1.7%</td>\n",
       "      <td>-0.5%</td>\n",
       "      <td>-1.5%</td>\n",
       "      <td>0.3%</td>\n",
       "      <td>-1.1%</td>\n",
       "      <td>-0.7%</td>\n",
       "      <td>0.2%</td>\n",
       "      <td>-0.1%</td>\n",
       "      <td>-0.5%</td>\n",
       "      <td>-1.8%</td>\n",
       "    </tr>\n",
       "    <tr>\n",
       "      <th>2</th>\n",
       "      <td>-0.5%</td>\n",
       "      <td>-1.8%</td>\n",
       "      <td>-0.4%</td>\n",
       "      <td>-2.2%</td>\n",
       "      <td>-0.5%</td>\n",
       "      <td>-1.1%</td>\n",
       "      <td>-2.5%</td>\n",
       "      <td>-1.0%</td>\n",
       "      <td>0.3%</td>\n",
       "      <td>-1.4%</td>\n",
       "      <td>-2.0%</td>\n",
       "      <td>0.8%</td>\n",
       "      <td>-2.0%</td>\n",
       "      <td>-0.5%</td>\n",
       "    </tr>\n",
       "    <tr>\n",
       "      <th>3</th>\n",
       "      <td>14.7%</td>\n",
       "      <td>-1.5%</td>\n",
       "      <td>0.0%</td>\n",
       "      <td>-0.4%</td>\n",
       "      <td>-1.1%</td>\n",
       "      <td>3.6%</td>\n",
       "      <td>0.1%</td>\n",
       "      <td>-0.5%</td>\n",
       "      <td>-1.2%</td>\n",
       "      <td>0.0%</td>\n",
       "      <td>-0.0%</td>\n",
       "      <td>-0.8%</td>\n",
       "      <td>-0.4%</td>\n",
       "      <td>-2.3%</td>\n",
       "    </tr>\n",
       "    <tr>\n",
       "      <th>4</th>\n",
       "      <td>27.2%</td>\n",
       "      <td>-0.6%</td>\n",
       "      <td>-1.4%</td>\n",
       "      <td>-1.9%</td>\n",
       "      <td>0.5%</td>\n",
       "      <td>9.7%</td>\n",
       "      <td>6.7%</td>\n",
       "      <td>0.5%</td>\n",
       "      <td>1.7%</td>\n",
       "      <td>-0.1%</td>\n",
       "      <td>5.4%</td>\n",
       "      <td>6.9%</td>\n",
       "      <td>4.9%</td>\n",
       "      <td>6.8%</td>\n",
       "    </tr>\n",
       "    <tr>\n",
       "      <th>5</th>\n",
       "      <td>NaN</td>\n",
       "      <td>NaN</td>\n",
       "      <td>NaN</td>\n",
       "      <td>NaN</td>\n",
       "      <td>NaN</td>\n",
       "      <td>NaN</td>\n",
       "      <td>NaN</td>\n",
       "      <td>NaN</td>\n",
       "      <td>NaN</td>\n",
       "      <td>NaN</td>\n",
       "      <td>NaN</td>\n",
       "      <td>NaN</td>\n",
       "      <td>NaN</td>\n",
       "      <td>NaN</td>\n",
       "    </tr>\n",
       "  </tbody>\n",
       "</table>\n",
       "</div>"
      ],
      "text/plain": [
       "   Inflight wifi service  Departure/Arrival time convenient  \\\n",
       "1                  -1.4%                              -0.1%   \n",
       "2                  -0.5%                              -1.8%   \n",
       "3                  14.7%                              -1.5%   \n",
       "4                  27.2%                              -0.6%   \n",
       "5                    NaN                                NaN   \n",
       "\n",
       "   Ease of Online booking  Gate location  Food and drink  Online boarding  \\\n",
       "1                   -0.0%         -31.9%           -1.7%            -0.5%   \n",
       "2                   -0.4%          -2.2%           -0.5%            -1.1%   \n",
       "3                    0.0%          -0.4%           -1.1%             3.6%   \n",
       "4                   -1.4%          -1.9%            0.5%             9.7%   \n",
       "5                     NaN            NaN             NaN              NaN   \n",
       "\n",
       "   Seat comfort  Inflight entertainment  On-board service  Leg room service  \\\n",
       "1         -1.5%                    0.3%             -1.1%             -0.7%   \n",
       "2         -2.5%                   -1.0%              0.3%             -1.4%   \n",
       "3          0.1%                   -0.5%             -1.2%              0.0%   \n",
       "4          6.7%                    0.5%              1.7%             -0.1%   \n",
       "5           NaN                     NaN               NaN               NaN   \n",
       "\n",
       "   Baggage handling  Checkin service  Inflight service  Cleanliness  \n",
       "1              0.2%            -0.1%             -0.5%        -1.8%  \n",
       "2             -2.0%             0.8%             -2.0%        -0.5%  \n",
       "3             -0.0%            -0.8%             -0.4%        -2.3%  \n",
       "4              5.4%             6.9%              4.9%         6.8%  \n",
       "5               NaN              NaN               NaN          NaN  "
      ]
     },
     "execution_count": 17,
     "metadata": {},
     "output_type": "execute_result"
    }
   ],
   "source": [
    "inc_sat_chg_df"
   ]
  },
  {
   "cell_type": "markdown",
   "id": "dd4facfd",
   "metadata": {},
   "source": [
    "Represents the net average satisfaction change for each \"experiment\". \n",
    "Coupled with weights in the survey, this dataframe can help estimate changes in average satisfaction given an improvement initiative in a category.\n"
   ]
  },
  {
   "cell_type": "code",
   "execution_count": 18,
   "id": "6663372c",
   "metadata": {},
   "outputs": [
    {
     "data": {
      "text/plain": [
       "Text(0.5, 1.0, 'Net Satisfaction Change for Each Simulation')"
      ]
     },
     "execution_count": 18,
     "metadata": {},
     "output_type": "execute_result"
    },
    {
     "data": {
      "image/png": "[encoded data removed]",
      "text/plain": [
       "<Figure size 432x288 with 2 Axes>"
      ]
     },
     "metadata": {
      "needs_background": "light"
     },
     "output_type": "display_data"
    }
   ],
   "source": [
    "ax = sns.heatmap(data =inc_sat_chg_df.T.loc[:,0:4]);\n",
    "\n",
    "ax.set_title(\"Net Satisfaction Change for Each Simulation\")\n"
   ]
  },
  {
   "cell_type": "markdown",
   "id": "274cf717",
   "metadata": {},
   "source": [
    "In the above, lighter colors point to larger increases in average satisfaction given a unit increase in survey response. <br/>\n",
    "In the next part, we will see the aggreage impact of these individual increases per category."
   ]
  },
  {
   "cell_type": "markdown",
   "id": "f53d82ea",
   "metadata": {},
   "source": [
    "**Impact on Average Satisfaction Given Unit Increases in Each Category**<br/>\n",
    "\n",
    "Let's complete our experiment by increasing each survey response by 1 where possible and observing the change in average satisfaction. <br/>"
   ]
  },
  {
   "cell_type": "code",
   "execution_count": 19,
   "id": "d1bf26ce",
   "metadata": {},
   "outputs": [
    {
     "data": {
      "text/html": [
       "<div>\n",
       "<style scoped>\n",
       "    .dataframe tbody tr th:only-of-type {\n",
       "        vertical-align: middle;\n",
       "    }\n",
       "\n",
       "    .dataframe tbody tr th {\n",
       "        vertical-align: top;\n",
       "    }\n",
       "\n",
       "    .dataframe thead th {\n",
       "        text-align: right;\n",
       "    }\n",
       "</style>\n",
       "<table border=\"1\" class=\"dataframe\">\n",
       "  <thead>\n",
       "    <tr style=\"text-align: right;\">\n",
       "      <th></th>\n",
       "      <th>Inflight wifi service</th>\n",
       "      <th>Departure/Arrival time convenient</th>\n",
       "      <th>Ease of Online booking</th>\n",
       "      <th>Gate location</th>\n",
       "      <th>Food and drink</th>\n",
       "      <th>Online boarding</th>\n",
       "      <th>Seat comfort</th>\n",
       "      <th>Inflight entertainment</th>\n",
       "      <th>On-board service</th>\n",
       "      <th>Leg room service</th>\n",
       "      <th>Baggage handling</th>\n",
       "      <th>Checkin service</th>\n",
       "      <th>Inflight service</th>\n",
       "      <th>Cleanliness</th>\n",
       "    </tr>\n",
       "  </thead>\n",
       "  <tbody>\n",
       "    <tr>\n",
       "      <th>1</th>\n",
       "      <td>17.3%</td>\n",
       "      <td>15.9%</td>\n",
       "      <td>17.6%</td>\n",
       "      <td>16.8%</td>\n",
       "      <td>12.2%</td>\n",
       "      <td>10.4%</td>\n",
       "      <td>11.3%</td>\n",
       "      <td>11.6%</td>\n",
       "      <td>11.3%</td>\n",
       "      <td>9.8%</td>\n",
       "      <td>6.7%</td>\n",
       "      <td>12.6%</td>\n",
       "      <td>6.5%</td>\n",
       "      <td>12.7%</td>\n",
       "    </tr>\n",
       "    <tr>\n",
       "      <th>2</th>\n",
       "      <td>25.8%</td>\n",
       "      <td>17.7%</td>\n",
       "      <td>24.3%</td>\n",
       "      <td>18.7%</td>\n",
       "      <td>21.2%</td>\n",
       "      <td>17.3%</td>\n",
       "      <td>14.1%</td>\n",
       "      <td>16.7%</td>\n",
       "      <td>14.2%</td>\n",
       "      <td>18.6%</td>\n",
       "      <td>11.0%</td>\n",
       "      <td>12.6%</td>\n",
       "      <td>11.0%</td>\n",
       "      <td>15.4%</td>\n",
       "    </tr>\n",
       "    <tr>\n",
       "      <th>3</th>\n",
       "      <td>25.9%</td>\n",
       "      <td>18.4%</td>\n",
       "      <td>24.7%</td>\n",
       "      <td>27.3%</td>\n",
       "      <td>21.4%</td>\n",
       "      <td>21.6%</td>\n",
       "      <td>18.0%</td>\n",
       "      <td>18.2%</td>\n",
       "      <td>21.7%</td>\n",
       "      <td>19.3%</td>\n",
       "      <td>20.2%</td>\n",
       "      <td>27.4%</td>\n",
       "      <td>19.8%</td>\n",
       "      <td>23.7%</td>\n",
       "    </tr>\n",
       "    <tr>\n",
       "      <th>4</th>\n",
       "      <td>19.6%</td>\n",
       "      <td>25.6%</td>\n",
       "      <td>19.6%</td>\n",
       "      <td>23.4%</td>\n",
       "      <td>23.7%</td>\n",
       "      <td>30.4%</td>\n",
       "      <td>31.0%</td>\n",
       "      <td>29.0%</td>\n",
       "      <td>30.0%</td>\n",
       "      <td>28.3%</td>\n",
       "      <td>36.3%</td>\n",
       "      <td>28.0%</td>\n",
       "      <td>36.8%</td>\n",
       "      <td>26.4%</td>\n",
       "    </tr>\n",
       "    <tr>\n",
       "      <th>5</th>\n",
       "      <td>11.4%</td>\n",
       "      <td>22.4%</td>\n",
       "      <td>13.9%</td>\n",
       "      <td>13.7%</td>\n",
       "      <td>21.5%</td>\n",
       "      <td>20.2%</td>\n",
       "      <td>25.6%</td>\n",
       "      <td>24.6%</td>\n",
       "      <td>22.7%</td>\n",
       "      <td>24.0%</td>\n",
       "      <td>25.8%</td>\n",
       "      <td>19.5%</td>\n",
       "      <td>25.8%</td>\n",
       "      <td>21.9%</td>\n",
       "    </tr>\n",
       "  </tbody>\n",
       "</table>\n",
       "</div>"
      ],
      "text/plain": [
       "   Inflight wifi service  Departure/Arrival time convenient  \\\n",
       "1                  17.3%                              15.9%   \n",
       "2                  25.8%                              17.7%   \n",
       "3                  25.9%                              18.4%   \n",
       "4                  19.6%                              25.6%   \n",
       "5                  11.4%                              22.4%   \n",
       "\n",
       "   Ease of Online booking  Gate location  Food and drink  Online boarding  \\\n",
       "1                   17.6%          16.8%           12.2%            10.4%   \n",
       "2                   24.3%          18.7%           21.2%            17.3%   \n",
       "3                   24.7%          27.3%           21.4%            21.6%   \n",
       "4                   19.6%          23.4%           23.7%            30.4%   \n",
       "5                   13.9%          13.7%           21.5%            20.2%   \n",
       "\n",
       "   Seat comfort  Inflight entertainment  On-board service  Leg room service  \\\n",
       "1         11.3%                   11.6%             11.3%              9.8%   \n",
       "2         14.1%                   16.7%             14.2%             18.6%   \n",
       "3         18.0%                   18.2%             21.7%             19.3%   \n",
       "4         31.0%                   29.0%             30.0%             28.3%   \n",
       "5         25.6%                   24.6%             22.7%             24.0%   \n",
       "\n",
       "   Baggage handling  Checkin service  Inflight service  Cleanliness  \n",
       "1              6.7%            12.6%              6.5%        12.7%  \n",
       "2             11.0%            12.6%             11.0%        15.4%  \n",
       "3             20.2%            27.4%             19.8%        23.7%  \n",
       "4             36.3%            28.0%             36.8%        26.4%  \n",
       "5             25.8%            19.5%             25.8%        21.9%  "
      ]
     },
     "execution_count": 19,
     "metadata": {},
     "output_type": "execute_result"
    }
   ],
   "source": [
    "#Generate survey weights from test data. This gives an idea of the score distribution in each category.\n",
    "survey_weights_test = pd.DataFrame()\n",
    "for cat in vars_cat_num:\n",
    "    _ = train_data_final[cat].value_counts(normalize=True)\n",
    "    survey_weights_test[cat] = _\n",
    "\n",
    "survey_weights_test.sort_index()"
   ]
  },
  {
   "cell_type": "markdown",
   "id": "90f03888",
   "metadata": {},
   "source": [
    "Following cell runs our experiment based on the above weight data:"
   ]
  },
  {
   "cell_type": "code",
   "execution_count": 20,
   "id": "a8818c2a",
   "metadata": {},
   "outputs": [
    {
     "name": "stdout",
     "output_type": "stream",
     "text": [
      "0.43028290386313\n",
      "Impact of 1 Point Increase on Average Satisfaction (Sorted)\n"
     ]
    },
    {
     "data": {
      "text/html": [
       "<div>\n",
       "<style scoped>\n",
       "    .dataframe tbody tr th:only-of-type {\n",
       "        vertical-align: middle;\n",
       "    }\n",
       "\n",
       "    .dataframe tbody tr th {\n",
       "        vertical-align: top;\n",
       "    }\n",
       "\n",
       "    .dataframe thead th {\n",
       "        text-align: right;\n",
       "    }\n",
       "</style>\n",
       "<table border=\"1\" class=\"dataframe\">\n",
       "  <thead>\n",
       "    <tr style=\"text-align: right;\">\n",
       "      <th></th>\n",
       "      <th>Impact of 1 Point Increase</th>\n",
       "      <th>Baseline Satisfaction</th>\n",
       "      <th>Satisfaction After 1 Point Increase</th>\n",
       "    </tr>\n",
       "  </thead>\n",
       "  <tbody>\n",
       "    <tr>\n",
       "      <th>Inflight wifi service</th>\n",
       "      <td>8.8%</td>\n",
       "      <td>43.0%</td>\n",
       "      <td>51.8%</td>\n",
       "    </tr>\n",
       "    <tr>\n",
       "      <th>Online boarding</th>\n",
       "      <td>3.5%</td>\n",
       "      <td>43.0%</td>\n",
       "      <td>46.5%</td>\n",
       "    </tr>\n",
       "    <tr>\n",
       "      <th>Checkin service</th>\n",
       "      <td>1.8%</td>\n",
       "      <td>43.0%</td>\n",
       "      <td>44.8%</td>\n",
       "    </tr>\n",
       "    <tr>\n",
       "      <th>Baggage handling</th>\n",
       "      <td>1.8%</td>\n",
       "      <td>43.0%</td>\n",
       "      <td>44.8%</td>\n",
       "    </tr>\n",
       "    <tr>\n",
       "      <th>Seat comfort</th>\n",
       "      <td>1.6%</td>\n",
       "      <td>43.0%</td>\n",
       "      <td>44.6%</td>\n",
       "    </tr>\n",
       "    <tr>\n",
       "      <th>Inflight service</th>\n",
       "      <td>1.5%</td>\n",
       "      <td>43.0%</td>\n",
       "      <td>44.5%</td>\n",
       "    </tr>\n",
       "    <tr>\n",
       "      <th>Cleanliness</th>\n",
       "      <td>0.9%</td>\n",
       "      <td>43.0%</td>\n",
       "      <td>44.0%</td>\n",
       "    </tr>\n",
       "    <tr>\n",
       "      <th>On-board service</th>\n",
       "      <td>0.2%</td>\n",
       "      <td>43.0%</td>\n",
       "      <td>43.2%</td>\n",
       "    </tr>\n",
       "    <tr>\n",
       "      <th>Inflight entertainment</th>\n",
       "      <td>-0.1%</td>\n",
       "      <td>43.0%</td>\n",
       "      <td>42.9%</td>\n",
       "    </tr>\n",
       "    <tr>\n",
       "      <th>Leg room service</th>\n",
       "      <td>-0.3%</td>\n",
       "      <td>43.0%</td>\n",
       "      <td>42.7%</td>\n",
       "    </tr>\n",
       "    <tr>\n",
       "      <th>Ease of Online booking</th>\n",
       "      <td>-0.4%</td>\n",
       "      <td>43.0%</td>\n",
       "      <td>42.7%</td>\n",
       "    </tr>\n",
       "    <tr>\n",
       "      <th>Food and drink</th>\n",
       "      <td>-0.4%</td>\n",
       "      <td>43.0%</td>\n",
       "      <td>42.6%</td>\n",
       "    </tr>\n",
       "    <tr>\n",
       "      <th>Departure/Arrival time convenient</th>\n",
       "      <td>-0.8%</td>\n",
       "      <td>43.0%</td>\n",
       "      <td>42.3%</td>\n",
       "    </tr>\n",
       "    <tr>\n",
       "      <th>Gate location</th>\n",
       "      <td>-6.3%</td>\n",
       "      <td>43.0%</td>\n",
       "      <td>36.7%</td>\n",
       "    </tr>\n",
       "  </tbody>\n",
       "</table>\n",
       "</div>"
      ],
      "text/plain": [
       "                                   Impact of 1 Point Increase  \\\n",
       "Inflight wifi service                                    8.8%   \n",
       "Online boarding                                          3.5%   \n",
       "Checkin service                                          1.8%   \n",
       "Baggage handling                                         1.8%   \n",
       "Seat comfort                                             1.6%   \n",
       "Inflight service                                         1.5%   \n",
       "Cleanliness                                              0.9%   \n",
       "On-board service                                         0.2%   \n",
       "Inflight entertainment                                  -0.1%   \n",
       "Leg room service                                        -0.3%   \n",
       "Ease of Online booking                                  -0.4%   \n",
       "Food and drink                                          -0.4%   \n",
       "Departure/Arrival time convenient                       -0.8%   \n",
       "Gate location                                           -6.3%   \n",
       "\n",
       "                                   Baseline Satisfaction  \\\n",
       "Inflight wifi service                              43.0%   \n",
       "Online boarding                                    43.0%   \n",
       "Checkin service                                    43.0%   \n",
       "Baggage handling                                   43.0%   \n",
       "Seat comfort                                       43.0%   \n",
       "Inflight service                                   43.0%   \n",
       "Cleanliness                                        43.0%   \n",
       "On-board service                                   43.0%   \n",
       "Inflight entertainment                             43.0%   \n",
       "Leg room service                                   43.0%   \n",
       "Ease of Online booking                             43.0%   \n",
       "Food and drink                                     43.0%   \n",
       "Departure/Arrival time convenient                  43.0%   \n",
       "Gate location                                      43.0%   \n",
       "\n",
       "                                   Satisfaction After 1 Point Increase  \n",
       "Inflight wifi service                                            51.8%  \n",
       "Online boarding                                                  46.5%  \n",
       "Checkin service                                                  44.8%  \n",
       "Baggage handling                                                 44.8%  \n",
       "Seat comfort                                                     44.6%  \n",
       "Inflight service                                                 44.5%  \n",
       "Cleanliness                                                      44.0%  \n",
       "On-board service                                                 43.2%  \n",
       "Inflight entertainment                                           42.9%  \n",
       "Leg room service                                                 42.7%  \n",
       "Ease of Online booking                                           42.7%  \n",
       "Food and drink                                                   42.6%  \n",
       "Departure/Arrival time convenient                                42.3%  \n",
       "Gate location                                                    36.7%  "
      ]
     },
     "execution_count": 20,
     "metadata": {},
     "output_type": "execute_result"
    }
   ],
   "source": [
    "unit_inc_experiment_result = pd.DataFrame((survey_weights_test*inc_sat_chg_df).sum().sort_values(ascending=False), columns = ['Impact of 1 Point Increase'])\n",
    "unit_inc_experiment_result['Baseline Satisfaction'] = test_data_final['satisfaction'].mean()\n",
    "print(test_data_final['satisfaction'].mean())\n",
    "unit_inc_experiment_result['Satisfaction After 1 Point Increase'] = unit_inc_experiment_result['Impact of 1 Point Increase'] + unit_inc_experiment_result['Baseline Satisfaction']\n",
    "pd.set_option('display.float_format',  '{:.1%}'.format)\n",
    "print(\"Impact of 1 Point Increase on Average Satisfaction (Sorted)\")\n",
    "unit_inc_experiment_result"
   ]
  },
  {
   "cell_type": "markdown",
   "id": "2bf059c6",
   "metadata": {},
   "source": [
    "The above experiment indicates that \"Inflight wifi service\" and \"Online boarding\" could be the most important factors in increasing the average satisfaction rate.<br/><br/>\n",
    "A recommendation for the company is to prioritize improvements in the above two categories given they make sense from a cost per satisfaction change perspective.\n"
   ]
  },
  {
   "cell_type": "code",
   "execution_count": null,
   "id": "06a29391",
   "metadata": {},
   "outputs": [],
   "source": []
  }
 ],
 "metadata": {
  "interpreter": {
   "hash": "220e10ff8ec8c0a2ee704b9ba1623fbaf79aa98a681a616ca665c089912d6d5d"
  },
  "kernelspec": {
   "display_name": "junk391",
   "language": "python",
   "name": "junk391"
  },
  "language_info": {
   "codemirror_mode": {
    "name": "ipython",
    "version": 3
   },
   "file_extension": ".py",
   "mimetype": "text/x-python",
   "name": "python",
   "nbconvert_exporter": "python",
   "pygments_lexer": "ipython3",
   "version": "3.9.4"
  }
 },
 "nbformat": 4,
 "nbformat_minor": 5
}
